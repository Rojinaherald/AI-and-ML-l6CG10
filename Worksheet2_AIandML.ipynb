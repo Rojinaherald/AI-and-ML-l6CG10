{
  "nbformat": 4,
  "nbformat_minor": 0,
  "metadata": {
    "colab": {
      "provenance": []
    },
    "kernelspec": {
      "name": "python3",
      "display_name": "Python 3"
    },
    "language_info": {
      "name": "python"
    }
  },
  "cells": [
    {
      "cell_type": "code",
      "execution_count": null,
      "metadata": {
        "id": "0LFzx6ApG6QG"
      },
      "outputs": [],
      "source": [
        "import numpy as np\n",
        "import matplotlib.pyplot as plt\n",
        "\n",
        "def softmax(z):\n",
        "    exp_z = np.exp(z - np.max(z, axis=1, keepdims=True))  # Numerical stability\n",
        "    return exp_z / np.sum(exp_z, axis=1, keepdims=True)\n"
      ]
    },
    {
      "cell_type": "code",
      "source": [
        "z_test = np.array([[2.0, 1.0, 0.1], [1.0, 1.0, 1.0]])\n",
        "softmax_output = softmax(z_test)\n",
        "assert np.allclose(np.sum(softmax_output, axis=1), 1)\n",
        "print(\"Softmax function passed the test case!\")\n"
      ],
      "metadata": {
        "colab": {
          "base_uri": "https://localhost:8080/"
        },
        "id": "W-G_5TidHC-R",
        "outputId": "338bd91c-03e3-4e54-c439-6a2dafffd897"
      },
      "execution_count": null,
      "outputs": [
        {
          "output_type": "stream",
          "name": "stdout",
          "text": [
            "Softmax function passed the test case!\n"
          ]
        }
      ]
    },
    {
      "cell_type": "code",
      "source": [
        "def predict_softmax(X, W, b):\n",
        "    logits = np.dot(X, W) + b\n",
        "    return np.argmax(softmax(logits), axis=1)\n"
      ],
      "metadata": {
        "id": "oePWYsRVHHIH"
      },
      "execution_count": null,
      "outputs": []
    },
    {
      "cell_type": "code",
      "source": [
        "X_test = np.array([[0.2, 0.8], [0.5, 0.5], [0.9, 0.1]])\n",
        "W_test = np.array([[0.4, 0.2, 0.1], [0.3, 0.7, 0.5]])\n",
        "b_test = np.array([0.1, 0.2, 0.3])\n",
        "y_pred_test = predict_softmax(X_test, W_test, b_test)\n",
        "assert y_pred_test.shape == (3,)\n",
        "print(\"Predicted class labels:\", y_pred_test)\n"
      ],
      "metadata": {
        "colab": {
          "base_uri": "https://localhost:8080/"
        },
        "id": "aFxzDVMQHJDg",
        "outputId": "9b8d7ec5-5e5b-40e8-adbc-e5843d8ba3a8"
      },
      "execution_count": null,
      "outputs": [
        {
          "output_type": "stream",
          "name": "stdout",
          "text": [
            "Predicted class labels: [1 1 0]\n"
          ]
        }
      ]
    },
    {
      "cell_type": "code",
      "source": [
        "def loss_softmax(y_pred, y_true):\n",
        "    return -np.mean(np.sum(y_true * np.log(y_pred + 1e-8), axis=1))\n"
      ],
      "metadata": {
        "id": "G31--EevHLyw"
      },
      "execution_count": null,
      "outputs": []
    },
    {
      "cell_type": "code",
      "source": [
        "y_true = np.array([[1, 0, 0], [0, 1, 0], [0, 0, 1]])\n",
        "y_pred = np.array([[0.9, 0.05, 0.05], [0.1, 0.85, 0.05], [0.05, 0.1, 0.85]])\n",
        "assert loss_softmax(y_pred, y_true) < loss_softmax(y_pred[::-1], y_true)\n",
        "print(\"Loss function passed the test case!\")\n"
      ],
      "metadata": {
        "colab": {
          "base_uri": "https://localhost:8080/"
        },
        "id": "Jaqe2kVuHNuD",
        "outputId": "2212c13c-dde4-4589-bf81-3d28ab6ba421"
      },
      "execution_count": null,
      "outputs": [
        {
          "output_type": "stream",
          "name": "stdout",
          "text": [
            "Loss function passed the test case!\n"
          ]
        }
      ]
    },
    {
      "cell_type": "code",
      "source": [
        "def cost_softmax(X, y, W, b):\n",
        "    logits = np.dot(X, W) + b\n",
        "    y_pred = softmax(logits)\n",
        "    return loss_softmax(y_pred, y)\n"
      ],
      "metadata": {
        "id": "KFPBpB31HQJO"
      },
      "execution_count": null,
      "outputs": []
    },
    {
      "cell_type": "code",
      "source": [
        "def compute_gradient_softmax(X, y, W, b):\n",
        "    m = X.shape[0]\n",
        "    y_pred = softmax(np.dot(X, W) + b)\n",
        "    grad_W = np.dot(X.T, (y_pred - y)) / m\n",
        "    grad_b = np.sum(y_pred - y, axis=0) / m\n",
        "    return grad_W, grad_b\n"
      ],
      "metadata": {
        "id": "gKjqpZK3HR3H"
      },
      "execution_count": null,
      "outputs": []
    },
    {
      "cell_type": "code",
      "source": [
        "def gradient_descent_softmax(X, y, W, b, alpha, n_iter):\n",
        "    cost_history = []\n",
        "    for i in range(n_iter):\n",
        "        grad_W, grad_b = compute_gradient_softmax(X, y, W, b)\n",
        "        W -= alpha * grad_W\n",
        "        b -= alpha * grad_b\n",
        "        cost_history.append(loss_softmax(softmax(np.dot(X, W) + b), y))\n",
        "    return W, b, cost_history\n"
      ],
      "metadata": {
        "id": "4Gihf4UTHT7l"
      },
      "execution_count": null,
      "outputs": []
    },
    {
      "cell_type": "code",
      "source": [
        "import pandas as pd\n",
        "import numpy as np\n",
        "from sklearn.model_selection import train_test_split\n",
        "\n",
        "# Load MNIST CSV file\n",
        "df = pd.read_csv(\"/content/mnist_dataset.csv\")  # Change to the correct file path\n",
        "\n",
        "# Extract labels and features\n",
        "y = df.iloc[:, 0].values  # Labels (digits 0-9)\n",
        "X = df.iloc[:, 1:].values / 255.0  # Normalize pixel values (0-255 → 0-1)\n",
        "\n",
        "# Split into training and testing sets (80% train, 20% test)\n",
        "X_train, X_test, y_train, y_test = train_test_split(X, y, test_size=0.2, random_state=42)\n",
        "\n",
        "print(\"Dataset Loaded Successfully!\")\n"
      ],
      "metadata": {
        "colab": {
          "base_uri": "https://localhost:8080/"
        },
        "id": "xSqGXCaTHW1l",
        "outputId": "21a01474-3e9f-4e9f-c3f7-05105111de70"
      },
      "execution_count": null,
      "outputs": [
        {
          "output_type": "stream",
          "name": "stdout",
          "text": [
            "Dataset Loaded Successfully!\n"
          ]
        }
      ]
    },
    {
      "cell_type": "code",
      "source": [
        "from sklearn.preprocessing import OneHotEncoder\n",
        "encoder = OneHotEncoder(sparse_output=False)\n",
        "y_train_one_hot = encoder.fit_transform(y_train.reshape(-1, 1))\n",
        "y_test_one_hot = encoder.transform(y_test.reshape(-1, 1))\n",
        "\n",
        "W = np.random.randn(X_train.shape[1], y_train_one_hot.shape[1]) * 0.01\n",
        "b = np.zeros(y_train_one_hot.shape[1])\n",
        "\n",
        "W_opt, b_opt, cost_history = gradient_descent_softmax(X_train, y_train_one_hot, W, b, alpha=0.1, n_iter=1000)\n"
      ],
      "metadata": {
        "id": "54pmva1yHoXT"
      },
      "execution_count": null,
      "outputs": []
    },
    {
      "cell_type": "code",
      "source": [
        "plt.plot(cost_history)\n",
        "plt.xlabel('Iterations')\n",
        "plt.ylabel('Cost')\n",
        "plt.title('Cost Function vs. Iterations')\n",
        "plt.show()\n"
      ],
      "metadata": {
        "colab": {
          "base_uri": "https://localhost:8080/",
          "height": 472
        },
        "id": "GY7zpkzoHudb",
        "outputId": "3cec65df-7bc1-49cd-c9f0-90c03877b7bb"
      },
      "execution_count": null,
      "outputs": [
        {
          "output_type": "display_data",
          "data": {
            "text/plain": [
              "<Figure size 640x480 with 1 Axes>"
            ],
            "image/png": "[encoded data removed]"
          },
          "metadata": {}
        }
      ]
    },
    {
      "cell_type": "code",
      "source": [
        "print(\"y_train exists:\", \"y_train\" in locals())\n",
        "print(\"y_test exists:\", \"y_test\" in locals())\n"
      ],
      "metadata": {
        "colab": {
          "base_uri": "https://localhost:8080/"
        },
        "id": "3IhL8xSPH3I5",
        "outputId": "95bf4998-8666-457c-aab5-f52c092b1823"
      },
      "execution_count": null,
      "outputs": [
        {
          "output_type": "stream",
          "name": "stdout",
          "text": [
            "y_train exists: True\n",
            "y_test exists: True\n"
          ]
        }
      ]
    },
    {
      "cell_type": "code",
      "source": [
        "from sklearn.metrics import confusion_matrix, precision_score, recall_score, f1_score\n",
        "\n",
        "y_pred_test = predict_softmax(X_test, W_opt, b_opt)\n",
        "cm = confusion_matrix(np.argmax(y_test_one_hot, axis=1), y_pred_test)\n",
        "precision = precision_score(np.argmax(y_test_one_hot, axis=1), y_pred_test, average='weighted')\n",
        "recall = recall_score(np.argmax(y_test_one_hot, axis=1), y_pred_test, average='weighted')\n",
        "f1 = f1_score(np.argmax(y_test_one_hot, axis=1), y_pred_test, average='weighted')\n",
        "\n",
        "print(f\"Confusion Matrix:\\n{cm}\")\n",
        "print(f\"Precision: {precision:.2f}, Recall: {recall:.2f}, F1-Score: {f1:.2f}\")\n"
      ],
      "metadata": {
        "colab": {
          "base_uri": "https://localhost:8080/"
        },
        "id": "GjEMev7cH5GX",
        "outputId": "28fb2a15-cb37-4ed9-f612-f3a1914a71bf"
      },
      "execution_count": null,
      "outputs": [
        {
          "output_type": "stream",
          "name": "stdout",
          "text": [
            "Confusion Matrix:\n",
            "[[1128    0    5    2    3   10    9    2   13    3]\n",
            " [   0 1275    7   11    1    5    1    4   17    1]\n",
            " [   1   16 1028   16   19    4   27   24   33    6]\n",
            " [   8    6   34 1050    1   53    9    8   30   20]\n",
            " [   1    5    7    1 1094    0   10    4    4   50]\n",
            " [  21   14   11   43   13  925   14    7   43   13]\n",
            " [   7    2    9    1   11   15 1120    2   10    0]\n",
            " [   7   26   24    4   15    3    0 1182    7   31]\n",
            " [   8   27   13   36    9   33   13    6 1000   15]\n",
            " [   8    6   10   18   45    9    0   39   10 1049]]\n",
            "Precision: 0.90, Recall: 0.90, F1-Score: 0.90\n"
          ]
        }
      ]
    },
    {
      "cell_type": "code",
      "source": [
        "from sklearn.datasets import make_classification, make_circles\n",
        "from sklearn.linear_model import LogisticRegression\n",
        "\n",
        "X_lin, y_lin = make_classification(n_samples=200, n_features=2, n_redundant=0, n_clusters_per_class=1, random_state=42)\n",
        "log_reg_lin = LogisticRegression().fit(X_lin, y_lin)\n",
        "\n",
        "X_nonlin, y_nonlin = make_circles(n_samples=200, noise=0.1, factor=0.5, random_state=42)\n",
        "log_reg_nonlin = LogisticRegression().fit(X_nonlin, y_nonlin)\n"
      ],
      "metadata": {
        "id": "regkwFldH5lS"
      },
      "execution_count": null,
      "outputs": []
    }
  ]
}